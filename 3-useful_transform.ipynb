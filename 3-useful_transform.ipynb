{
 "cells": [
  {
   "attachments": {},
   "cell_type": "markdown",
   "metadata": {},
   "source": [
    "常见的transform\n",
    "\n",
    "输入: PIL, image.open()\n",
    "\n",
    "输出: tensor, ToTensor()\n",
    "\n",
    "作用: narrays, cv.image()"
   ]
  },
  {
   "attachments": {},
   "cell_type": "markdown",
   "metadata": {},
   "source": [
    "ToTensor"
   ]
  },
  {
   "cell_type": "code",
   "execution_count": 22,
   "metadata": {},
   "outputs": [
    {
     "name": "stdout",
     "output_type": "stream",
     "text": [
      "tensor(0.)\n",
      "<built-in method size of Tensor object at 0x7ff3214896d0>\n",
      "tensor(-1.)\n",
      "(1682, 1260)\n",
      "tensor([[[0.0039, 0.0039, 0.0039,  ..., 0.0039, 0.0078, 0.0157],\n",
      "         [0.0039, 0.0039, 0.0039,  ..., 0.0039, 0.0078, 0.0157],\n",
      "         [0.0039, 0.0039, 0.0039,  ..., 0.0039, 0.0078, 0.0196],\n",
      "         ...,\n",
      "         [0.0039, 0.0039, 0.0039,  ..., 0.0039, 0.0078, 0.0157],\n",
      "         [0.0039, 0.0039, 0.0039,  ..., 0.0039, 0.0078, 0.0157],\n",
      "         [0.0039, 0.0039, 0.0039,  ..., 0.0039, 0.0078, 0.0157]],\n",
      "\n",
      "        [[0.0000, 0.0000, 0.0000,  ..., 0.0000, 0.0039, 0.0078],\n",
      "         [0.0000, 0.0000, 0.0000,  ..., 0.0000, 0.0039, 0.0078],\n",
      "         [0.0000, 0.0000, 0.0000,  ..., 0.0000, 0.0039, 0.0118],\n",
      "         ...,\n",
      "         [0.0000, 0.0000, 0.0000,  ..., 0.0000, 0.0039, 0.0118],\n",
      "         [0.0000, 0.0000, 0.0000,  ..., 0.0000, 0.0039, 0.0118],\n",
      "         [0.0000, 0.0000, 0.0000,  ..., 0.0000, 0.0039, 0.0118]],\n",
      "\n",
      "        [[0.9333, 0.9529, 0.9529,  ..., 0.9608, 0.8863, 0.4275],\n",
      "         [0.9333, 0.9529, 0.9529,  ..., 0.9608, 0.8863, 0.4275],\n",
      "         [0.9333, 0.9529, 0.9529,  ..., 0.9608, 0.8863, 0.4275],\n",
      "         ...,\n",
      "         [0.9216, 0.9490, 0.9569,  ..., 0.9608, 0.8863, 0.4275],\n",
      "         [0.9216, 0.9490, 0.9569,  ..., 0.9608, 0.8863, 0.4275],\n",
      "         [0.9216, 0.9490, 0.9569,  ..., 0.9608, 0.8863, 0.4275]]])\n"
     ]
    }
   ],
   "source": [
    "from PIL import Image\n",
    "from torch.utils.tensorboard import SummaryWriter\n",
    "from torchvision import transforms\n",
    "import numpy as np\n",
    "\n",
    "## 这里如果读取的图像是RGBA四通道的，需要用.convert(\"RGB\")改为三通道，返回图像\n",
    "img = Image.open(\"example.png\").convert(\"RGB\")\n",
    "writer = SummaryWriter(\"logs\")\n",
    "\n",
    "# ToTensor\n",
    "trans_totensor = transforms.ToTensor()\n",
    "img_tensor = trans_totensor(img)\n",
    "writer.add_image(\"ToTensor\", img_tensor, 1)\n",
    "\n",
    "# Normalize: \n",
    "print(img_tensor[0][0][0])\n",
    "trans_norm = transforms.Normalize([0.5, 0.5, 0.5], [0.5, 0.5, 0.5])\n",
    "print(np.size(img_tensor))\n",
    "img_norm = trans_norm(img_tensor)\n",
    "print(img_norm[0][0][0])\n",
    "writer.add_image(\"Normalize\", img_norm, 1)\n",
    "\n",
    "# Resize\n",
    "print(img.size)\n",
    "trans_resize = transforms.Resize((512, 512))\n",
    "# img PIL -> resize -> img_resize PIL\n",
    "img_resize = trans_resize(img)\n",
    "# img_resize PIL -> totensor -> img_resize tensor\n",
    "img_resize = trans_totensor(img_resize)\n",
    "writer.add_image(\"Resize\", img_resize, 1)\n",
    "print(img_resize)\n",
    "\n",
    "\n",
    "## Compose - resize - 2\n",
    "trans_resize_2 = transforms.Resize(512)\n",
    "# PIL -> PIL -> tensor\n",
    "trans_compose = transforms.Compose([trans_resize_2, trans_totensor])\n",
    "img_resize_2 = trans_compose(img)\n",
    "writer.add_image(\"Resize\", img_resize_2, 2)\n",
    "\n",
    "# RandomCrop\n",
    "trans_random = transforms.RandomCrop([500, 1000]) ## (512) 正方形\n",
    "trans_compose_2 = transforms.Compose([trans_random, trans_totensor])\n",
    "for i in range(10):\n",
    "    img_crop = trans_compose_2(img)\n",
    "    writer.add_image(\"RandomCrop\", img_crop, i)\n",
    "\n",
    "writer.close()\n"
   ]
  }
 ],
 "metadata": {
  "kernelspec": {
   "display_name": "NLPbasic",
   "language": "python",
   "name": "python3"
  },
  "language_info": {
   "codemirror_mode": {
    "name": "ipython",
    "version": 3
   },
   "file_extension": ".py",
   "mimetype": "text/x-python",
   "name": "python",
   "nbconvert_exporter": "python",
   "pygments_lexer": "ipython3",
   "version": "3.9.0 (default, Nov 15 2020, 06:25:35) \n[Clang 10.0.0 ]"
  },
  "orig_nbformat": 4,
  "vscode": {
   "interpreter": {
    "hash": "882c1afb4c9a40325de8f81978e52d317fad24a18050be2528b8982770e49e29"
   }
  }
 },
 "nbformat": 4,
 "nbformat_minor": 2
}
